{
 "cells": [
  {
   "cell_type": "code",
   "id": "2d34a9d8",
   "metadata": {
    "ExecuteTime": {
     "end_time": "2025-09-02T06:44:37.232082Z",
     "start_time": "2025-09-02T06:44:37.225243Z"
    }
   },
   "source": [
    "from typing_extensions import TypedDict\n",
    "from langgraph.graph import StateGraph, START , END\n",
    "\n",
    "from typing import Annotated\n",
    "from langgraph.graph.message import add_messages\n"
   ],
   "outputs": [],
   "execution_count": 10
  },
  {
   "cell_type": "code",
   "id": "819bdeca",
   "metadata": {
    "ExecuteTime": {
     "end_time": "2025-09-02T06:44:37.254830Z",
     "start_time": "2025-09-02T06:44:37.239965Z"
    }
   },
   "source": [
    "class Message(TypedDict):\n",
    "    developer: str\n",
    "    points: int"
   ],
   "outputs": [],
   "execution_count": 11
  },
  {
   "cell_type": "code",
   "id": "2284e326",
   "metadata": {
    "ExecuteTime": {
     "end_time": "2025-09-02T06:44:37.269739Z",
     "start_time": "2025-09-02T06:44:37.260867Z"
    }
   },
   "source": [
    "class Message2(TypedDict):\n",
    "    key: str\n",
    "    Title: str\n",
    "    Description: str"
   ],
   "outputs": [],
   "execution_count": 12
  },
  {
   "cell_type": "code",
   "id": "735c0ec9",
   "metadata": {
    "ExecuteTime": {
     "end_time": "2025-09-02T06:44:37.284569Z",
     "start_time": "2025-09-02T06:44:37.275337Z"
    }
   },
   "source": [
    "from typing import TypedDict, List\n",
    "def add_messages(current: List[Message], new: List[Message]) -> List[Message]:\n",
    "    return current + new\n",
    "\n",
    "class State(TypedDict):\n",
    "    messages: Annotated[List[Message], add_messages]\n",
    "\n",
    "class State2(TypedDict):\n",
    "    messages2: Annotated[List[Message2], add_messages]    \n",
    "\n",
    "state: State = {\"messages\": []}   \n",
    "state2: State2 = {\"messages2\": []}  \n"
   ],
   "outputs": [],
   "execution_count": 13
  },
  {
   "cell_type": "code",
   "id": "0fe2cd59",
   "metadata": {
    "ExecuteTime": {
     "end_time": "2025-09-02T06:44:37.298373Z",
     "start_time": "2025-09-02T06:44:37.289908Z"
    }
   },
   "source": [
    "import os\n",
    "from dotenv import load_dotenv\n",
    "load_dotenv()\n",
    "\n",
    "os.environ[\"OPENAI_API_KEY\"]=os.getenv(\"OPENAI_API_KEY\")\n"
   ],
   "outputs": [],
   "execution_count": 14
  },
  {
   "cell_type": "markdown",
   "id": "8f1ad6be",
   "metadata": {},
   "source": []
  },
  {
   "cell_type": "code",
   "id": "20012c3b",
   "metadata": {
    "ExecuteTime": {
     "end_time": "2025-09-02T09:49:41.103058Z",
     "start_time": "2025-09-02T09:49:40.275239Z"
    }
   },
   "source": [
    "'''Get all open issues'''\n",
    "import requests\n",
    "\n",
    "#==== Configuration ====\n",
    "JIRA_BASE_URL = \"https://ca-il-jira.il.cyber-ark.com:8443\"\n",
    "API_ENDPOINT = f\"{JIRA_BASE_URL}/rest/api/2/search\"\n",
    "BEARER_TOKEN = \"xGkGLtKttyM5Gnr57XLyPYMg2k1RwpnTyBiR8P\"\n",
    "\n",
    "# JQL query\n",
    "JQL_QUERY = (\n",
    "    'project = \"Cross RND Ticket\" AND type = Ticket '\n",
    "    'AND component = Identity-Integrations AND status = \"Investigating\" '\n",
    " #   'AND (assignee is EMPTY or assignee = \"Ratan sharma\") ORDER BY Severity'\n",
    ")\n",
    "\n",
    "# Request parameters\n",
    "params = {\n",
    "    \"jql\": JQL_QUERY,\n",
    "    \"fields\": \"summary,description,customfield_19321,customfield_16122\",\n",
    "    \"maxResults\": 50\n",
    "}\n",
    "\n",
    "headers = {\n",
    "    \"Authorization\": f\"Bearer {BEARER_TOKEN}\",\n",
    "    \"Accept\": \"application/json\"\n",
    "}\n",
    "\n",
    "# API call\n",
    "response = requests.get(API_ENDPOINT, headers=headers, params=params)\n",
    "\n",
    "# Store results in a list of lists\n",
    "issue_list = [] \n",
    "print(response.status_code)\n",
    "if response.status_code == 200:\n",
    "    data = response.json()\n",
    "    for issue in data.get(\"issues\", []):\n",
    "        key = issue.get(\"key\")\n",
    "        fields = issue.get(\"fields\", {})\n",
    "\n",
    "        title = fields.get(\"customfield_19321\", {}).get(\"value\", \"No Title\")\n",
    "        description = fields.get(\"summary\", \"\")\n",
    "        description_clean = \" \".join(description.split()) if description else \"No Description\"\n",
    "\n",
    "        issue_list.append([key, title, description_clean])\n",
    "        print(f\"{key} | {title} | {description_clean}\")  # Each on new line\n",
    "else:\n",
    "    print(f\"Error {response.status_code}: {response.text}\")\n",
    "a =10\n",
    "issue_prompt2 = \"\".join(\n",
    "    f\"Key: {inner[0]}, Title: {inner[1]}, Description: {inner[2]}\\n\"\n",
    "    for inner in issue_list\n",
    ")\n"
   ],
   "outputs": [
    {
     "name": "stdout",
     "output_type": "stream",
     "text": [
      "200\n",
      "CRT-9208 | CREATION FAILURE | failure in tenant creation due to timeout\n",
      "CRT-9190 | CREATION FAILURE | Failed to create tenant\n"
     ]
    }
   ],
   "execution_count": 28
  },
  {
   "cell_type": "code",
   "id": "57825ac7",
   "metadata": {
    "ExecuteTime": {
     "end_time": "2025-09-13T06:38:25.241163Z",
     "start_time": "2025-09-13T06:38:20.417359Z"
    }
   },
   "source": [
    "'''get developersa and their story points from current sprint'''\n",
    "import requests\n",
    "from requests.auth import HTTPBasicAuth\n",
    "import json\n",
    "\n",
    "# Configuration\n",
    "print(\"amer copyright\")\n",
    "JIRA_BASE_URL = \"https://ca-il-jira.il.cyber-ark.com:8443\"\n",
    "SPRINT_ID = \"36339\"\n",
    "BEARER_TOKEN = \"xGkGLtKttyM5Gnr57XLyPYMg2k1RwpnTyBiR8P\"  # same token used in Bruno\n",
    "\n",
    "url = f\"{JIRA_BASE_URL}/rest/agile/1.0/sprint/{SPRINT_ID}/issue\"\n",
    "\n",
    "headers = {\n",
    "    \"Authorization\": f\"Bearer {BEARER_TOKEN}\",\n",
    "    \"Accept\": \"application/json\"\n",
    "}\n",
    "\n",
    "response = requests.get(url, headers=headers)\n",
    "\n",
    "if response.status_code != 200:\n",
    "    print(f\"Failed to fetch issues: {response.status_code}\")\n",
    "    exit()\n",
    "\n",
    "data = response.json()\n",
    "\n",
    "# Mapping: Developer -> Total Story Points\n",
    "developer_points = {}\n",
    "\n",
    "for issue in data.get(\"issues\", []):\n",
    "    fields = issue.get(\"fields\", {})\n",
    "    \n",
    "    # Check if issue is not resolved/closed\n",
    "    status = fields.get(\"status\", {}).get(\"name\", \"\").lower()\n",
    "    if status in [\"done\", \"completed\", \"closed\"]:\n",
    "        continue  # Skip non-active stories\n",
    "\n",
    "    # Assignee info\n",
    "    assignee = fields.get(\"assignee\", {})\n",
    "    name = assignee.get(\"name\", \"Unassigned\")\n",
    "\n",
    "    # Story points field\n",
    "    story_points = fields.get(\"customfield_11820\", 0)\n",
    "\n",
    "    if story_points is None:\n",
    "        story_points = 0\n",
    "\n",
    "    # Accumulate\n",
    "    developer_points[name] = developer_points.get(name, 0) + story_points\n",
    "\n",
    "# Output\n",
    "print(\"Developer-wise Active Story Points:\")\n",
    "for dev, points in developer_points.items():\n",
    "    new_message: Message = {\"developer\": dev, \"points\": points}\n",
    "    state[\"messages\"] = add_messages(state[\"messages\"], [new_message])\n",
    "    print(f\"{dev}: {points}\")"
   ],
   "outputs": [
    {
     "name": "stdout",
     "output_type": "stream",
     "text": [
      "amer copyright\n",
      "Developer-wise Active Story Points:\n"
     ]
    }
   ],
   "execution_count": 1
  },
  {
   "cell_type": "code",
   "id": "53f08070",
   "metadata": {
    "ExecuteTime": {
     "end_time": "2025-09-02T06:44:50.841544Z",
     "start_time": "2025-09-02T06:44:42.148680Z"
    }
   },
   "source": [
    "'''pass tthe data to llm and get developer name for each CRTs'''\n",
    "from langchain_openai import ChatOpenAI\n",
    "from dotenv import load_dotenv\n",
    "import os\n",
    "import re\n",
    "\n",
    "load_dotenv()\n",
    "state_prompt = \"\".join(\n",
    "    f\"Developer: {msg['developer']}, Points: {msg['points']}\\n\"\n",
    "    for msg in state[\"messages\"]\n",
    ")\n",
    "\n",
    "llm = ChatOpenAI(\n",
    "    openai_api_key=os.getenv(\"OPENAI_API_KEY\"), \n",
    "    openai_api_base=\"https://openrouter.ai/api/v1\",  \n",
    "    model=\"qwen/qwq-32b:free\"  \n",
    ")\n",
    "\n",
    "'''llm.bind_tools([assign_jira_issue,])'''\n",
    "prompt = (\n",
    "    state_prompt + issue_prompt2 +\n",
    "    \"You are an assignment engine. I have given you available developers with their story points. \" +\n",
    "    \"Assign each CRT number to the developer with the fewest story points. \" +\n",
    "    \"In case of a tie, assign arbitrarily. \" +\n",
    "    \"Output must be ONLY in the format:\\n\\nCRT-xxxx: developer_name\\nCRT-yyyy: developer_name\\n\\n\" +\n",
    "    \"No explanation. No <think>. No comments. Only plain text mapping.\"\n",
    ")\n",
    "response = llm.invoke(state_prompt+ issue_prompt2 + prompt)\n",
    "response_text = response.content.strip()\n",
    "assignments = re.findall(r\"CRT-\\d+:\\s+\\w+\", response_text)\n",
    "\n",
    "result_list = []\n",
    "\n",
    "for line in response_text.splitlines():\n",
    "    # Match only lines like CRT-xxxx: name\n",
    "    match = re.match(r\"^(CRT-\\d+):\\s+([\\w\\d_-]+)$\", line.strip())\n",
    "    if match:\n",
    "        crt, dev = match.groups()\n",
    "        result_list.append([crt, dev])\n",
    "\n",
    "print(result_list)\n",
    "\n"
   ],
   "outputs": [
    {
     "name": "stdout",
     "output_type": "stream",
     "text": [
      "[]\n"
     ]
    }
   ],
   "execution_count": 17
  },
  {
   "cell_type": "code",
   "id": "f7a91e93",
   "metadata": {
    "ExecuteTime": {
     "end_time": "2025-09-13T06:39:58.009278Z",
     "start_time": "2025-09-13T06:39:58.000982Z"
    }
   },
   "source": [
    "'''now assign the CRT to the developer we got from LLM'''\n",
    "import requests\n",
    "import json\n",
    "\n",
    "# Jira instance URL\n",
    "JIRA_URL = \"https://ca-il-jira.il.cyber-ark.com:8443/rest/api/2/issue\"\n",
    "\n",
    "\n",
    "BEARER_TOKEN = \"xGkGLtKttyM5Gnr57XLyPYMg2k1RwpnTyBiR8P\"  \n",
    "\n",
    "\n",
    "assignments = [\n",
    "    [\"ibulochkina\", \"CRT-8510\"],\n",
    "    [\"jdoe\", \"CRT-8511\"]\n",
    "    \n",
    "]\n",
    "\n",
    "def assign_jira_issue(crt_number, developer_name):\n",
    "    \"\"\"\n",
    "\n",
    "    \"\"\"\n",
    "    url = f\"{JIRA_URL}/{crt_number}/assignee\"\n",
    "    headers = {\n",
    "        \"Content-Type\": \"application/json\",\n",
    "        \"Authorization\": f\"Bearer {BEARER_TOKEN}\"\n",
    "    }\n",
    "    payload = {\n",
    "        \"name\": developer_name\n",
    "    }\n",
    "    \n",
    "    try:\n",
    "        response = requests.put(\n",
    "            url,\n",
    "            headers=headers,\n",
    "            data=json.dumps(payload)\n",
    "        )\n",
    "        if response.status_code == 204:\n",
    "            print(f\"Successfully assigned {crt_number} to {developer_name}\")\n",
    "        else:\n",
    "            print(f\"Failed to assign {crt_number} to {developer_name}: {response.status_code} - {response.text}\")\n",
    "    except requests.RequestException as e:\n",
    "        print(f\"Error assigning {crt_number} to {developer_name}: {str(e)}\")"
   ],
   "outputs": [],
   "execution_count": 2
  },
  {
   "cell_type": "code",
   "id": "d51e6744",
   "metadata": {
    "ExecuteTime": {
     "end_time": "2025-09-02T06:44:50.886018Z",
     "start_time": "2025-09-02T06:44:50.882678Z"
    }
   },
   "source": [
    "for crt, dev in result_list:\n",
    "    assign_jira_issue(crt, dev)"
   ],
   "outputs": [],
   "execution_count": 19
  },
  {
   "cell_type": "code",
   "id": "70cc8f69",
   "metadata": {
    "ExecuteTime": {
     "end_time": "2025-09-02T06:44:50.896164Z",
     "start_time": "2025-09-02T06:44:50.892898Z"
    }
   },
   "source": [],
   "outputs": [],
   "execution_count": null
  }
 ],
 "metadata": {
  "kernelspec": {
   "display_name": "Python 3",
   "language": "python",
   "name": "python3"
  },
  "language_info": {
   "codemirror_mode": {
    "name": "ipython",
    "version": 3
   },
   "file_extension": ".py",
   "mimetype": "text/x-python",
   "name": "python",
   "nbconvert_exporter": "python",
   "pygments_lexer": "ipython3",
   "version": "3.12.0"
  }
 },
 "nbformat": 4,
 "nbformat_minor": 5
}
